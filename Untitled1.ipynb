{
 "cells": [
  {
   "cell_type": "code",
   "execution_count": 1,
   "id": "f2b9ffeb-3a5b-4a9d-9294-fbb189b470b3",
   "metadata": {},
   "outputs": [
    {
     "name": "stderr",
     "output_type": "stream",
     "text": [
      "IOPub data rate exceeded.\n",
      "The Jupyter server will temporarily stop sending output\n",
      "to the client in order to avoid crashing it.\n",
      "To change this limit, set the config variable\n",
      "`--ServerApp.iopub_data_rate_limit`.\n",
      "\n",
      "Current values:\n",
      "ServerApp.iopub_data_rate_limit=1000000.0 (bytes/sec)\n",
      "ServerApp.rate_limit_window=3.0 (secs)\n",
      "\n"
     ]
    },
    {
     "name": "stdout",
     "output_type": "stream",
     "text": [
      "Converted: E:\\dicom_dump\\5th batch\\20191105\\1.2.840.113681.2225186874.927.3750422757.188\\1.2.840.113681.2225186874.927.3750422757.191.1\\1.2.840.113681.2225186874.927.3750422757.197.1.dcm to C:\\Users\\kenza.chenni\\Desktop\\acıbademsana\\5th batch\\20191105\\1.2.840.113681.2225186874.927.3750422757.188\\1.2.840.113681.2225186874.927.3750422757.191.1\\1.2.840.113681.2225186874.927.3750422757.197.1.jpg\n",
      "Converted: E:\\dicom_dump\\5th batch\\20191105\\1.2.840.113681.2225186874.927.3750422757.188\\1.2.840.113681.2225186874.927.3750422757.192.1\\1.2.840.113681.2225186874.927.3750422757.199.1.dcm to C:\\Users\\kenza.chenni\\Desktop\\acıbademsana\\5th batch\\20191105\\1.2.840.113681.2225186874.927.3750422757.188\\1.2.840.113681.2225186874.927.3750422757.192.1\\1.2.840.113681.2225186874.927.3750422757.199.1.jpg\n",
      "Converted: E:\\dicom_dump\\5th batch\\20191105\\1.2.840.113681.2225186874.927.3750422757.188\\1.2.840.113681.2225186874.927.3750422757.190.1\\1.2.840.113681.2225186874.927.3750422757.195.1.dcm to C:\\Users\\kenza.chenni\\Desktop\\acıbademsana\\5th batch\\20191105\\1.2.840.113681.2225186874.927.3750422757.188\\1.2.840.113681.2225186874.927.3750422757.190.1\\1.2.840.113681.2225186874.927.3750422757.195.1.jpg\n",
      "Converted: E:\\dicom_dump\\5th batch\\20191106\\1.2.840.113681.2225186874.928.3750509380.26\\1.2.840.113681.2225186874.928.3750509380.28.1\\1.2.840.113681.2225186874.928.3750509380.33.1.dcm to C:\\Users\\kenza.chenni\\Desktop\\acıbademsana\\5th batch\\20191106\\1.2.840.113681.2225186874.928.3750509380.26\\1.2.840.113681.2225186874.928.3750509380.28.1\\1.2.840.113681.2225186874.928.3750509380.33.1.jpg\n",
      "Converted: E:\\dicom_dump\\5th batch\\20191106\\1.2.840.113681.2225186874.928.3750509380.26\\1.2.840.113681.2225186874.928.3750509380.27.1\\1.2.840.113681.2225186874.928.3750509380.31.1.dcm to C:\\Users\\kenza.chenni\\Desktop\\acıbademsana\\5th batch\\20191106\\1.2.840.113681.2225186874.928.3750509380.26\\1.2.840.113681.2225186874.928.3750509380.27.1\\1.2.840.113681.2225186874.928.3750509380.31.1.jpg\n",
      "Converted: E:\\dicom_dump\\5th batch\\20191106\\1.2.840.113681.2225186874.928.3750509380.26\\1.2.840.113681.2225186874.928.3750509380.29.1\\1.2.840.113681.2225186874.928.3750509380.35.1.dcm to C:\\Users\\kenza.chenni\\Desktop\\acıbademsana\\5th batch\\20191106\\1.2.840.113681.2225186874.928.3750509380.26\\1.2.840.113681.2225186874.928.3750509380.29.1\\1.2.840.113681.2225186874.928.3750509380.35.1.jpg\n",
      "Converted: E:\\dicom_dump\\5th batch\\20191106\\1.2.840.113681.2225186874.928.3750509380.26\\1.2.840.113681.2225186874.928.3750509380.30.1\\1.2.840.113681.2225186874.928.3750509380.37.1.dcm to C:\\Users\\kenza.chenni\\Desktop\\acıbademsana\\5th batch\\20191106\\1.2.840.113681.2225186874.928.3750509380.26\\1.2.840.113681.2225186874.928.3750509380.30.1\\1.2.840.113681.2225186874.928.3750509380.37.1.jpg\n"
     ]
    }
   ],
   "source": [
    "import os\n",
    "import pydicom\n",
    "import numpy as np\n",
    "import cv2\n",
    "from PIL import Image\n",
    "from concurrent.futures import ThreadPoolExecutor, as_completed\n",
    "\n",
    "# Define the input and output folder paths\n",
    "input_folder = r\"E:\\dicom_dump\\5th batch\"\n",
    "output_folder = r\"C:\\Users\\kenza.chenni\\Desktop\\acıbademsana\\5th batch\"\n",
    "\n",
    "# Create output folder if it doesn't exist\n",
    "os.makedirs(output_folder, exist_ok=True)\n",
    "\n",
    "def convert_dicom_to_jpg(dicom_file_path, output_file_path):\n",
    "    try:\n",
    "        # Read the DICOM file\n",
    "        dicom_image = pydicom.dcmread(dicom_file_path)\n",
    "        \n",
    "        # Convert pixel data to a NumPy array\n",
    "        image_array = dicom_image.pixel_array\n",
    "        \n",
    "        # Normalize the pixel values\n",
    "        image_array = cv2.normalize(image_array, None, 0, 255, cv2.NORM_MINMAX)\n",
    "        image_array = np.uint8(image_array)\n",
    "        \n",
    "        # Convert to RGB\n",
    "        if len(image_array.shape) == 2:  # If grayscale, convert to RGB\n",
    "            image_array = cv2.cvtColor(image_array, cv2.COLOR_GRAY2RGB)\n",
    "        \n",
    "        # Save as a JPG image\n",
    "        im = Image.fromarray(image_array)\n",
    "        im.save(output_file_path)\n",
    "\n",
    "        return f\"Converted: {dicom_file_path} to {output_file_path}\"\n",
    "    except Exception as e:\n",
    "        return f\"Failed to convert {dicom_file_path}: {e}\"\n",
    "\n",
    "def process_dicom_file(dicom_file_path, output_folder, root):\n",
    "    # Recreate the folder structure in the output folder\n",
    "    relative_path = os.path.relpath(root, input_folder)\n",
    "    output_subfolder = os.path.join(output_folder, relative_path)\n",
    "    \n",
    "    # Create the subfolder if it doesn't exist\n",
    "    os.makedirs(output_subfolder, exist_ok=True)\n",
    "\n",
    "    # Create a unique JPG file name\n",
    "    base_name = os.path.splitext(os.path.basename(dicom_file_path))[0]\n",
    "    jpg_file_path = os.path.join(output_subfolder, f\"{base_name}.jpg\")\n",
    "    \n",
    "    return convert_dicom_to_jpg(dicom_file_path, jpg_file_path)\n",
    "\n",
    "# Parallel processing with ThreadPoolExecutor\n",
    "with ThreadPoolExecutor() as executor:\n",
    "    futures = []\n",
    "    \n",
    "    # Walk through all subfolders in the input folder\n",
    "    for root, dirs, files in os.walk(input_folder):\n",
    "        for file in files:\n",
    "            if file.lower().endswith('.dcm'):\n",
    "                dicom_file_path = os.path.join(root, file)\n",
    "                futures.append(executor.submit(process_dicom_file, dicom_file_path, output_folder, root))\n",
    "    \n",
    "    # Wait for all tasks to complete\n",
    "    for future in as_completed(futures):\n",
    "        print(future.result())\n"
   ]
  },
  {
   "cell_type": "code",
   "execution_count": null,
   "id": "9b4a101d-1375-480c-8772-983497eaf575",
   "metadata": {},
   "outputs": [],
   "source": []
  }
 ],
 "metadata": {
  "kernelspec": {
   "display_name": "Python 3 (ipykernel)",
   "language": "python",
   "name": "python3"
  },
  "language_info": {
   "codemirror_mode": {
    "name": "ipython",
    "version": 3
   },
   "file_extension": ".py",
   "mimetype": "text/x-python",
   "name": "python",
   "nbconvert_exporter": "python",
   "pygments_lexer": "ipython3",
   "version": "3.12.4"
  }
 },
 "nbformat": 4,
 "nbformat_minor": 5
}
