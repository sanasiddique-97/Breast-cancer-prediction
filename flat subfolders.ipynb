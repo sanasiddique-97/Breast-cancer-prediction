{
 "cells": [
  {
   "cell_type": "code",
   "execution_count": 3,
   "id": "803fa43b-6f10-4e1b-83da-652711f7dc0e",
   "metadata": {},
   "outputs": [
    {
     "name": "stdout",
     "output_type": "stream",
     "text": [
      "The history saving thread hit an unexpected error (OperationalError('database or disk is full')).History will not be written to the database.\n",
      "✅ Extracted 1858 images to D:\\yedek\\lavdie.rada\\OneDrive\\acıbademsana\\cancer_flat\n",
      "✅ Extracted 103602 images to D:\\yedek\\lavdie.rada\\OneDrive\\acıbademsana\\noncancer_flat\n",
      "\n",
      "🎯 Image extraction completed successfully!\n"
     ]
    }
   ],
   "source": [
    "import os\n",
    "import shutil\n",
    "\n",
    "# Define source and destination directories\n",
    "\n",
    "DEST_CANCER = r\"D:\\yedek\\lavdie.rada\\OneDrive\\acıbademsana\\cancer_flat\"\n",
    "DEST_NONCANCER = r\"D:\\yedek\\lavdie.rada\\OneDrive\\acıbademsana\\noncancer_flat\"\n",
    "\n",
    "# Ensure destination folders exist\n",
    "os.makedirs(DEST_CANCER, exist_ok=True)\n",
    "os.makedirs(DEST_NONCANCER, exist_ok=True)\n",
    "\n",
    "# Function to extract images from nested folders\n",
    "def extract_images(source_subfolder, dest_folder):\n",
    "    count = 0\n",
    "    for root, _, files in os.walk(source_subfolder):\n",
    "        for file in files:\n",
    "            if file.endswith((\".png\", \".jpg\", \".jpeg\", \".tif\")):\n",
    "                source_path = os.path.join(root, file)\n",
    "                dest_path = os.path.join(dest_folder, file)\n",
    "\n",
    "                # Rename if file with same name exists\n",
    "                if os.path.exists(dest_path):\n",
    "                    filename, ext = os.path.splitext(file)\n",
    "                    dest_path = os.path.join(dest_folder, f\"{filename}_{count}{ext}\")\n",
    "\n",
    "                shutil.copy2(source_path, dest_path)\n",
    "                count += 1\n",
    "\n",
    "    print(f\"✅ Extracted {count} images to {dest_folder}\")\n",
    "\n",
    "# Extract images for both categories\n",
    "# Extract images for both categories\n",
    "extract_images(r\"C:\\Users\\kenza.chenni\\Desktop\\acıbademsana\\cancer\", DEST_CANCER)\n",
    "extract_images(r\"C:\\Users\\kenza.chenni\\Desktop\\acıbademsana\\noncancer\", DEST_NONCANCER)\n",
    "\n",
    "\n",
    "print(\"\\n🎯 Image extraction completed successfully!\")\n"
   ]
  },
  {
   "cell_type": "code",
   "execution_count": 5,
   "id": "59076189-9cb2-4123-b138-bd8efccdbead",
   "metadata": {},
   "outputs": [
    {
     "name": "stdout",
     "output_type": "stream",
     "text": [
      "✅ File exists!\n",
      "❌ OpenCV cannot read the image!\n"
     ]
    }
   ],
   "source": [
    "import cv2\n",
    "import os\n",
    "\n",
    "image_path = r\"D:\\yedek\\lavdie.rada\\OneDrive\\acıbademsana\\mPC\\Prior\\1.2.840.113681.2225186874.1000.3668512367.103.1.jpg\"\n",
    "\n",
    "# Check if file exists\n",
    "if os.path.exists(image_path):\n",
    "    print(\"✅ File exists!\")\n",
    "else:\n",
    "    print(\"❌ File does NOT exist!\")\n",
    "\n",
    "# Try loading the image\n",
    "img = cv2.imread(image_path, 0)\n",
    "if img is None:\n",
    "    print(\"❌ OpenCV cannot read the image!\")\n",
    "else:\n",
    "    print(\"✅ OpenCV loaded the image successfully!\")\n"
   ]
  },
  {
   "cell_type": "code",
   "execution_count": 7,
   "id": "94026f5f-7358-4870-82a8-d61563476420",
   "metadata": {},
   "outputs": [
    {
     "name": "stdout",
     "output_type": "stream",
     "text": [
      "❌ This is NOT a DICOM file.\n"
     ]
    }
   ],
   "source": [
    "import pydicom\n",
    "\n",
    "image_path = r\"D:\\yedek\\lavdie.rada\\OneDrive\\acıbademsana\\mPC\\Prior\\1.2.840.113681.2225186874.1000.3668512367.103.1.jpg\"\n",
    "\n",
    "try:\n",
    "    dicom_data = pydicom.dcmread(image_path)\n",
    "    print(\"✅ This is a DICOM file.\")\n",
    "except:\n",
    "    print(\"❌ This is NOT a DICOM file.\")\n"
   ]
  },
  {
   "cell_type": "code",
   "execution_count": 9,
   "id": "47f60d0c-8685-46a7-8cca-96b4d1882636",
   "metadata": {},
   "outputs": [
    {
     "name": "stdout",
     "output_type": "stream",
     "text": [
      "❌ This is NOT a DICOM file.\n"
     ]
    }
   ],
   "source": [
    "import pydicom\n",
    "\n",
    "image_path = r\"D:\\yedek\\lavdie.rada\\OneDrive\\acıbademsana\\mPC\\Prior\\1.2.840.113681.2225186874.1000.3668512367.103.1.jpg\"\n",
    "\n",
    "try:\n",
    "    dicom_data = pydicom.dcmread(image_path)\n",
    "    print(\"✅ This is a DICOM file.\")\n",
    "except:\n",
    "    print(\"❌ This is NOT a DICOM file.\")\n"
   ]
  },
  {
   "cell_type": "code",
   "execution_count": 11,
   "id": "b19fdfd5-04da-41a7-bc2b-1b661b35d79b",
   "metadata": {},
   "outputs": [
    {
     "name": "stdout",
     "output_type": "stream",
     "text": [
      "✅ Image successfully opened!\n"
     ]
    }
   ],
   "source": [
    "from PIL import Image\n",
    "\n",
    "image_path = r\"D:\\yedek\\lavdie.rada\\OneDrive\\acıbademsana\\mPC\\Prior\\1.2.840.113681.2225186874.1000.3668512367.103.1.jpg\"\n",
    "\n",
    "try:\n",
    "    img = Image.open(image_path)\n",
    "    img.show()  # Open the image\n",
    "    print(\"✅ Image successfully opened!\")\n",
    "except Exception as e:\n",
    "    print(f\"❌ PIL cannot open the image: {e}\")\n"
   ]
  },
  {
   "cell_type": "code",
   "execution_count": null,
   "id": "eff41449-cad4-4f83-bbc9-342fe420878c",
   "metadata": {},
   "outputs": [],
   "source": []
  }
 ],
 "metadata": {
  "kernelspec": {
   "display_name": "Python 3 (ipykernel)",
   "language": "python",
   "name": "python3"
  },
  "language_info": {
   "codemirror_mode": {
    "name": "ipython",
    "version": 3
   },
   "file_extension": ".py",
   "mimetype": "text/x-python",
   "name": "python",
   "nbconvert_exporter": "python",
   "pygments_lexer": "ipython3",
   "version": "3.12.4"
  }
 },
 "nbformat": 4,
 "nbformat_minor": 5
}
