{
 "cells": [
  {
   "cell_type": "code",
   "execution_count": null,
   "id": "da8cf67f-e735-42eb-bfac-511540c0b8e0",
   "metadata": {},
   "outputs": [],
   "source": [
    "#Step by step\n",
    "\n",
    "import pandas as pd\n",
    "import numpy as np\n",
    "import tensorflow as tf\n",
    "from tensorflow.keras.preprocessing.image import ImageDataGenerator\n",
    "from tensorflow.keras.applications import ResNet50\n",
    "from tensorflow.keras.layers import Dense, Flatten, Input\n",
    "from tensorflow.keras.models import Model\n",
    "from tensorflow.keras.optimizers import Adam\n",
    "from sklearn.model_selection import train_test_split\n",
    "from sklearn.metrics import classification_report, confusion_matrix\n",
    "import cv2\n",
    "import os\n"
   ]
  },
  {
   "cell_type": "code",
   "execution_count": null,
   "id": "e0376156-2c88-426c-9302-aac30114154e",
   "metadata": {},
   "outputs": [],
   "source": [
    "# Load the CSV file\n",
    "csv_path = '/content/drive/MyDrive/datacombined.xlsx'\n",
    "df = pd.read_csv(csv_path)\n",
    "\n",
    "# Inspect the CSV structure\n",
    "print(df.head())\n"
   ]
  },
  {
   "cell_type": "code",
   "execution_count": null,
   "id": "10a1fb8d-bec6-4c74-ac85-397a5e734a5d",
   "metadata": {},
   "outputs": [],
   "source": [
    "import pandas as pd\n",
    "\n",
    "# Load the Excel file and specify the sheet names\n",
    "excel_path = '/content/drive/MyDrive/datacombined.xlsx'\n",
    "df_non_cancer = pd.read_excel(excel_path, sheet_name=0)  # Sheet 1: Non-cancer\n",
    "df_cancer = pd.read_excel(excel_path, sheet_name=1)      # Sheet 2: Cancer\n",
    "\n",
    "# Add a 'label' column to each dataframe (0 for non-cancer, 1 for cancer)\n",
    "df_non_cancer['label'] = 0\n",
    "df_cancer['label'] = 1\n",
    "\n",
    "# Concatenate both dataframes into a single dataframe\n",
    "df = pd.concat([df_non_cancer, df_cancer], ignore_index=True)\n",
    "\n",
    "# Verify the data\n",
    "print(df.head())\n",
    "print(df['label'].value_counts())  # Should show counts of 0s and 1s\n"
   ]
  },
  {
   "cell_type": "code",
   "execution_count": null,
   "id": "dcf7bd71-c0ce-4335-86ba-832babd7342c",
   "metadata": {},
   "outputs": [],
   "source": [
    "# Replace \".dcm\" with \".jpg\" in the 'InputFileName' column\n",
    "df[\"InputFileName\"] = df[\"InputFileName\"].str.replace(\".dcm\", \".jpg\", regex=False)\n"
   ]
  },
  {
   "cell_type": "code",
   "execution_count": null,
   "id": "89517405-2c40-49bb-819f-55d5b674f617",
   "metadata": {},
   "outputs": [],
   "source": [
    "import cv2\n",
    "import numpy as np\n",
    "import os\n",
    "\n",
    "# Path to images in Google Drive\n",
    "image_folder = '/content/drive/MyDrive/dicom_images_converted'\n",
    "\n",
    "def load_images(df, image_folder, img_size=(224, 224)):\n",
    "    images = []\n",
    "    labels = []\n",
    "    for _, row in df.iterrows():\n",
    "        img_path = os.path.join(image_folder, row['InputFileName'])\n",
    "        if os.path.exists(img_path):\n",
    "            img = cv2.imread(img_path)\n",
    "            img = cv2.resize(img, img_size)  # Resize images to the target size\n",
    "            img = img / 255.0  # Normalize pixel values\n",
    "            images.append(img)\n",
    "            labels.append(row['label'])\n",
    "        else:\n",
    "            print(f\"Image not found: {img_path}\")  # For troubleshooting\n",
    "    return np.array(images), np.array(labels)\n",
    "\n",
    "# Load images and labels\n",
    "images, labels = load_images(df, image_folder)\n",
    "print(f\"Loaded {len(images)} images.\")\n"
   ]
  },
  {
   "cell_type": "markdown",
   "id": "64fa859d-bfb6-41f6-92ad-a730f6112198",
   "metadata": {},
   "source": [
    "import os\n",
    "import cv2\n",
    "import numpy as np\n",
    "import pandas as pd\n",
    "\n",
    "# Path to the main images directory in Google Drive\n",
    "image_folder = '/content/drive/MyDrive/dicom_images_converted'\n",
    "\n",
    "def find_image_path(image_folder, filename):\n",
    "    # Walk through all subdirectories to find the image file\n",
    "    for root, _, files in os.walk(image_folder):\n",
    "        if filename in files:\n",
    "            return os.path.join(root, filename)\n",
    "    return None\n",
    "\n",
    "def load_images(df, image_folder, img_size=(224, 224)):\n",
    "    images = []\n",
    "    labels = []\n",
    "    for _, row in df.iterrows():\n",
    "        img_path = find_image_path(image_folder, row['InputFileName'])\n",
    "        if img_path:\n",
    "            img = cv2.imread(img_path)\n",
    "            if img is not None:\n",
    "                img = cv2.resize(img, img_size)  # Resize images to the target size\n",
    "                img = img / 255.0  # Normalize pixel values\n",
    "                images.append(img)\n",
    "                labels.append(row['label'])\n",
    "            else:\n",
    "                print(f\"Could not load image: {img_path}\")\n",
    "        else:\n",
    "            print(f\"Image not found for: {row['InputFileName']}\")  # For troubleshooting\n",
    "    return np.array(images), np.array(labels)\n",
    "\n",
    "# Example usage with DataFrame containing 'InputFileName' and 'label' columns\n",
    "# Assuming df has already been defined with necessary columns\n",
    "images, labels = load_images(df, image_folder)\n",
    "print(f\"Loaded {len(images)} images.\")\n"
   ]
  },
  {
   "cell_type": "code",
   "execution_count": null,
   "id": "9ed02323-3e18-48c2-b035-fa1effc0578c",
   "metadata": {},
   "outputs": [],
   "source": [
    "X_train, X_val, y_train, y_val = train_test_split(images, labels, test_size=0.2, random_state=42, stratify=labels)\n"
   ]
  },
  {
   "cell_type": "code",
   "execution_count": null,
   "id": "9e091423-1edf-455e-83af-b42147a7aaae",
   "metadata": {},
   "outputs": [],
   "source": [
    "# Load the base model\n",
    "base_model = ResNet50(weights='imagenet', include_top=False, input_tensor=Input(shape=(224, 224, 3)))\n",
    "\n",
    "# Add custom layers on top of the base model\n",
    "x = base_model.output\n",
    "x = Flatten()(x)\n",
    "x = Dense(128, activation='relu')(x)\n",
    "x = Dense(64, activation='relu')(x)\n",
    "output = Dense(1, activation='sigmoid')(x)\n",
    "\n",
    "model = Model(inputs=base_model.input, outputs=output)\n",
    "\n",
    "# Freeze the layers of the base model\n",
    "for layer in base_model.layers:\n",
    "    layer.trainable = False\n",
    "\n",
    "# Compile the model\n",
    "model.compile(optimizer=Adam(learning_rate=0.001), loss='binary_crossentropy', metrics=['accuracy'])\n",
    "model.summary()\n"
   ]
  },
  {
   "cell_type": "code",
   "execution_count": null,
   "id": "f20392ba-d93a-4869-a9f1-b384f6337284",
   "metadata": {},
   "outputs": [],
   "source": [
    "# Data augmentation\n",
    "datagen = ImageDataGenerator(\n",
    "    rotation_range=20,\n",
    "    zoom_range=0.15,\n",
    "    width_shift_range=0.2,\n",
    "    height_shift_range=0.2,\n",
    "    shear_range=0.15,\n",
    "    horizontal_flip=True,\n",
    "    fill_mode=\"nearest\"\n",
    ")\n",
    "\n",
    "# Train the model\n",
    "batch_size = 32\n",
    "epochs = 10\n",
    "\n",
    "history = model.fit(\n",
    "    datagen.flow(X_train, y_train, batch_size=batch_size),\n",
    "    validation_data=(X_val, y_val),\n",
    "    steps_per_epoch=len(X_train) // batch_size,\n",
    "    epochs=epochs\n",
    ")\n"
   ]
  },
  {
   "cell_type": "code",
   "execution_count": null,
   "id": "8551f0d2-4d1a-443f-b17b-90c35d019b0a",
   "metadata": {},
   "outputs": [],
   "source": [
    "# Predictions on validation set\n",
    "y_pred = (model.predict(X_val) > 0.5).astype(\"int32\")\n",
    "\n",
    "# Classification Report\n",
    "print(classification_report(y_val, y_pred))\n",
    "\n",
    "# Confusion Matrix\n",
    "cm = confusion_matrix(y_val, y_pred)\n",
    "print(\"Confusion Matrix:\\n\", cm)\n"
   ]
  },
  {
   "cell_type": "code",
   "execution_count": null,
   "id": "23a90702-4b3f-4f08-a5d6-aeec591c10ad",
   "metadata": {},
   "outputs": [],
   "source": [
    "model.save('/content/drive/MyDrive/breast_cancer_model.h5')\n"
   ]
  },
  {
   "cell_type": "code",
   "execution_count": null,
   "id": "9f17a502-524b-40d1-8b84-88099abbb334",
   "metadata": {},
   "outputs": [],
   "source": []
  }
 ],
 "metadata": {
  "kernelspec": {
   "display_name": "Python 3 (ipykernel)",
   "language": "python",
   "name": "python3"
  },
  "language_info": {
   "codemirror_mode": {
    "name": "ipython",
    "version": 3
   },
   "file_extension": ".py",
   "mimetype": "text/x-python",
   "name": "python",
   "nbconvert_exporter": "python",
   "pygments_lexer": "ipython3",
   "version": "3.12.4"
  }
 },
 "nbformat": 4,
 "nbformat_minor": 5
}
